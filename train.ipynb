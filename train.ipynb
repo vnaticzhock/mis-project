{
 "cells": [
  {
   "cell_type": "code",
   "execution_count": 3,
   "metadata": {},
   "outputs": [],
   "source": [
    "import torch\n",
    "import torch.nn as nn\n",
    "from torch.utils.data import Dataset, DataLoader\n",
    "from dbhelper import dbhelper\n",
    "from itertools import chain\n",
    "\n",
    "from torchfm.model.fm import FactorizationMachineModel"
   ]
  },
  {
   "cell_type": "code",
   "execution_count": 31,
   "metadata": {},
   "outputs": [],
   "source": [
    "cursor = dbhelper().cursor\n",
    "result = cursor.execute('SELECT rest_index, user_id FROM comments;')\n",
    "# print(cursor.fetchall())"
   ]
  },
  {
   "cell_type": "code",
   "execution_count": null,
   "metadata": {},
   "outputs": [],
   "source": [
    "class CommentDataset(Dataset):\n",
    "    def __init__(self):\n",
    "        cursor.execute('SELECT rest_index, user_id, rating FROM comments;')\n",
    "        result = cursor.fetchall()\n",
    "\n",
    "        user_id     = [tup[1] for tup in result]\n",
    "\n",
    "        self.user_id_mapper = {k: v for v, k in enumerate(user_id)}\n",
    "        self.len = len(result)\n",
    "        self.x = [(x1, x2) for x1, x2, _ in result]\n",
    "        self.y = [y for _, _, y in result]\n",
    "\n",
    "    def __getitem__(self, index):\n",
    "        return self.x[index], self.y[index]\n",
    "\n",
    "    def __len__(self):\n",
    "        return self.len\n",
    "\n",
    "class TransNet(nn.modules):\n",
    "    def __init__(self):\n",
    "        super(TransNet, self).__init__()\n",
    "\n",
    "        self.source = nn.Sequential(\n",
    "            nn.Conv2d(3, 64, 3, 1, 1),\n",
    "            nn.BatchNorm2d(64),\n",
    "            nn.ReLU(),\n",
    "            nn.MaxPool2d(2, 2, 0),\n",
    "\n",
    "            nn.Conv2d(64, 128, 3, 1, 1),\n",
    "            nn.BatchNorm2d(128),\n",
    "            nn.ReLU(),\n",
    "            nn.MaxPool2d(2, 2, 0),\n",
    "\n",
    "            nn.Conv2d(128, 256, 3, 1, 1),\n",
    "            nn.BatchNorm2d(256),\n",
    "            nn.ReLU(),\n",
    "            nn.MaxPool2d(4, 4, 0),\n",
    "        )\n",
    "\n",
    "        self.target = nn.Sequential(\n",
    "            nn.Conv2d(3, 64, 3, 1, 1),\n",
    "            nn.BatchNorm2d(64),\n",
    "            nn.ReLU(),\n",
    "            nn.MaxPool2d(2, 2, 0),\n",
    "\n",
    "            nn.Conv2d(64, 128, 3, 1, 1),\n",
    "            nn.BatchNorm2d(128),\n",
    "            nn.ReLU(),\n",
    "            nn.MaxPool2d(2, 2, 0),\n",
    "\n",
    "            nn.Conv2d(128, 256, 3, 1, 1),\n",
    "            nn.BatchNorm2d(256),\n",
    "            nn.ReLU(),\n",
    "            nn.MaxPool2d(4, 4, 0),\n",
    "        )\n",
    "\n",
    "        self.fm = FactorizationMachineModel(3, 88)\n",
    "\n",
    "    def forward(self, x):\n",
    "        rest_index, user_id = x[0], x[1]\n",
    "        cursor.execute('SELECT * FROM comments WHERE rest_index = %s', (rest_index,))\n",
    "        result1 = set(cursor.fetchall())\n",
    "\n",
    "        cursor.execute('SELECT * FROM comments WHERE user_id = %s', (user_id,))\n",
    "        result2 = set(cursor.fetchall())\n",
    "\n",
    "        target = result1.intersection(result2)\n",
    "        source_rest = \"。\".join([tup[3] for tup in result1.difference(target)])\n",
    "        source_user = \"。\".join([tup[3] for tup in result2.difference(target)])\n",
    "\n",
    "        ## 換成 word embeddings"
   ]
  }
 ],
 "metadata": {
  "kernelspec": {
   "display_name": "Python 3.10.4 ('env310')",
   "language": "python",
   "name": "python3"
  },
  "language_info": {
   "codemirror_mode": {
    "name": "ipython",
    "version": 3
   },
   "file_extension": ".py",
   "mimetype": "text/x-python",
   "name": "python",
   "nbconvert_exporter": "python",
   "pygments_lexer": "ipython3",
   "version": "3.10.4"
  },
  "orig_nbformat": 4,
  "vscode": {
   "interpreter": {
    "hash": "54f463d17ec00b8755f6b6a0b500e340af347d0eba9a6b5e8c6f04f1f1644b56"
   }
  }
 },
 "nbformat": 4,
 "nbformat_minor": 2
}
